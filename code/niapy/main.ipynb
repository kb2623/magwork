{
 "cells": [
  {
   "cell_type": "code",
   "execution_count": null,
   "id": "0ac6d4fa-80a4-40c4-9420-bae94741c097",
   "metadata": {},
   "outputs": [],
   "source": [
    "import os\n",
    "import sys\n",
    "import timeit\n",
    "from itertools import permutations\n",
    "\n",
    "import numpy as np\n",
    "from numpy.random import rand\n",
    "\n",
    "import pandas as pd\n",
    "\n",
    "from cec2013lsgo.cec2013 import Benchmark\n",
    "\n",
    "from niapy.task import Task\n",
    "from niapy.problems import Problem\n",
    "\n",
    "from niapy.algorithms.algorithm import (\n",
    "    AnalysisAlgorithm,\n",
    "    OptimizationAlgorithm\n",
    ")\n",
    "from niapy.algorithms.analysis import (\n",
    "    RecursiveDifferentialGrouping,\n",
    "    RecursiveDifferentialGroupingV2,\n",
    "    RecursiveDifferentialGroupingV3,\n",
    "    EfficientRecursiveDifferentialGrouping,\n",
    "    ThreeLevelRecursiveDifferentialGrouping\n",
    ")\n",
    "from niapy.algorithms.basic import (\n",
    "    ParticleSwarmAlgorithm,\n",
    "    ParticleSwarmOptimization,\n",
    "    CenterParticleSwarmOptimization,\n",
    "    MutatedParticleSwarmOptimization,\n",
    "    MutatedCenterParticleSwarmOptimization,\n",
    "    ComprehensiveLearningParticleSwarmOptimizer,\n",
    "    MutatedCenterUnifiedParticleSwarmOptimization,\n",
    "    OppositionVelocityClampingParticleSwarmOptimization,\n",
    ")\n",
    "from ccalgorithm import CooperativeCoevolution"
   ]
  },
  {
   "cell_type": "code",
   "execution_count": null,
   "id": "c6db0d96-99a3-4f66-9eb9-5ab591903671",
   "metadata": {},
   "outputs": [],
   "source": [
    "class CEC2013lsgoTask(Task):\n",
    "    Name:list[str] = ['CEC2013lsgo']\n",
    "    \n",
    "    def __init__(self, no_fun:int, *args:list, **kwargs:dict) -> None:\n",
    "        if 1 < no_fun > 15: raise Exception('Function between 1 and 15!!!')\n",
    "        bench = Benchmark()\n",
    "        info = bench.get_info(no_fun)\n",
    "        max_evals = 3e6\n",
    "        fun_fitness = bench.get_function(no_fun)\n",
    "        \n",
    "        class CEC2013lsgoProblem(Problem):\n",
    "            def __init__(self, *args:list, **kwargs:dict) -> None:\n",
    "                kwargs.pop('dimension', None), kwargs.pop('lower', None), kwargs.pop('upper', None)\n",
    "                super().__init__(dimension=info['dimension'], lower=info['lower'], upper=info['upper'], *args, **kwargs)\n",
    "        \n",
    "            def _evaluate(self, x):\n",
    "                return fun_fitness(x)\n",
    "\n",
    "        kwargs.pop('problem', None), kwargs.pop('optimization_type', None), kwargs.pop('lower', None), kwargs.pop('upper', None), kwargs.pop('dimension', None), kwargs.pop('max_evals', None)\n",
    "        super().__init__(problem=CEC2013lsgoProblem(), max_evals=max_evals, *args, **kwargs)\n",
    "\n",
    "    def get_mesures(self) -> list[float]:\n",
    "        r = [self.fitness_evals[0][1], self.fitness_evals[0][1], self.fitness_evals[0][1]]\n",
    "        for e in self.fitness_evals:\n",
    "            if e[0] > 120000: break\n",
    "            else: r[0] = e[1]\n",
    "        for e in self.fitness_evals:\n",
    "            if e[0] > 600000: break\n",
    "            else: r[1] = e[1]\n",
    "        for e in self.fitness_evals:\n",
    "            if e[0] > 3000000: break\n",
    "            else: r[2] = e[1]\n",
    "        return r"
   ]
  },
  {
   "cell_type": "markdown",
   "id": "1fec7578-ba88-468c-a767-37a69faba589",
   "metadata": {
    "jp-MarkdownHeadingCollapsed": true
   },
   "source": [
    "# Test bechmark functions"
   ]
  },
  {
   "cell_type": "code",
   "execution_count": null,
   "id": "bef1827c-0ff1-4d08-88be-91378c2bc1d0",
   "metadata": {},
   "outputs": [],
   "source": [
    "def run_test_func(no_fun:int, max_evals:int = 1e6) -> None:\n",
    "    if 1 < no_fun > 15: raise Exception('Function between 1 and 15!!!')\n",
    "    bench = Benchmark()\n",
    "    info = bench.get_info(no_fun)\n",
    "    fun_fitness = bench.get_function(no_fun)\n",
    "    start = timeit.default_timer()\n",
    "    i = 0\n",
    "    while i < max_evals:\n",
    "        x = info['lower'] + rand(info['dimension']) * (info['upper'] - info['lower'])\n",
    "        f = fun_fitness(x)\n",
    "        i += 1\n",
    "    end = timeit.default_timer()\n",
    "    print('Time of execution for f%d for %d evals = %fs' % (no_fun, max_evals, end - start))"
   ]
  },
  {
   "cell_type": "code",
   "execution_count": null,
   "id": "4a81b6d9-e306-4dda-8a8e-8838f775daef",
   "metadata": {},
   "outputs": [],
   "source": [
    "for i in range(1, 16): run_test_func(i, 3e6)"
   ]
  },
  {
   "cell_type": "markdown",
   "id": "b49c7d94-853d-47e3-982a-b77595e530a4",
   "metadata": {},
   "source": [
    "# Grouping results"
   ]
  },
  {
   "cell_type": "code",
   "execution_count": null,
   "id": "6223cab2-1d97-48a0-be52-8e10ced58514",
   "metadata": {},
   "outputs": [],
   "source": [
    "def no_seps(a:list) -> int:\n",
    "    s = 0\n",
    "    for e in a:\n",
    "        if len(e) > 1: continue\n",
    "        s += 1\n",
    "    return s"
   ]
  },
  {
   "cell_type": "code",
   "execution_count": null,
   "id": "f9df4be3-cedf-4b9a-a315-be7e89977c2e",
   "metadata": {},
   "outputs": [],
   "source": [
    "def no_groups(a:list) -> int:\n",
    "    s = 0\n",
    "    for e in a:\n",
    "        if len(e) == 1: continue\n",
    "        s += 1\n",
    "    return s"
   ]
  },
  {
   "cell_type": "code",
   "execution_count": null,
   "id": "75f7c96c-c4b4-457b-b8ec-85d93f99abaa",
   "metadata": {},
   "outputs": [],
   "source": [
    "def make_b_list(best: list) -> list:\n",
    "    b, s = [], []\n",
    "    for e in best:\n",
    "        if len(e) == 1: s.append(e[0])\n",
    "        else: b.append(e)\n",
    "    if len(s) > 0: b.append(s)\n",
    "    return b"
   ]
  },
  {
   "cell_type": "code",
   "execution_count": null,
   "id": "47ad121d-13ba-4618-9338-40ada5c3d34d",
   "metadata": {},
   "outputs": [],
   "source": [
    "def run_grouping_cec2013(algo:AnalysisAlgorithm, id:int = 1, no_fun:int = 1, **algparams) -> None:\n",
    "    algo.set_parameters(**algparams)\n",
    "    task = CEC2013lsgoTask(no_fun=no_fun)\n",
    "    start = timeit.default_timer()\n",
    "    best = algo.run(task)\n",
    "    stop = timeit.default_timer()\n",
    "    acc, b = 0, make_b_list(best)\n",
    "    if os.path.isfile('inputdata/F%d-s.txt' % no_fun):\n",
    "        g_s = list(pd.read_csv('inputdata/F%d-s.txt' % no_fun, header=None).iloc[:, 0])\n",
    "        cs = [e - 1 for e in list(pd.read_csv('inputdata/F%d-p.txt' % no_fun, header=None).iloc[0, :])]\n",
    "        s, g = 0, []\n",
    "        for e in g_s:\n",
    "            g.append(cs[s:s + e])\n",
    "            s += e\n",
    "        g.append(cs[s:])\n",
    "        if len(cs) < 1000: g.append(list(set(range(0, 1000)) - set(cs)))\n",
    "        for p in permutations(g):\n",
    "            t = 0\n",
    "            for i, e in enumerate(p):\n",
    "                if i >= len(b): break\n",
    "                t = t + len(set(b[i]) & set(e))\n",
    "                if t > acc: acc = t\n",
    "        acc = acc / 1000\n",
    "    else:\n",
    "        acc = len(set(range(1000)) & set(b[0])) / 1000\n",
    "    if not os.path.exists('./%s.cec2013lso.%d.csv' % (algo.Name[1], no_fun)):\n",
    "        with open('%s.cec2013lso.%d.csv' % (algo.Name[1], no_fun), 'w') as csvfile:\n",
    "            csvfile.write('seed, no_groups, no_seps, accuracy, evals, time, allgroups\\n')\n",
    "    with open('%s.cec2013lso.%d.csv' % (algo.Name[1], no_fun), 'a') as csvfile:\n",
    "        csvfile.write('%d, %d, %d, %f, %d, %f, \"%s\"\\n' % (id, no_groups(best), no_seps(best), acc, task.evals, stop - start, best))"
   ]
  },
  {
   "cell_type": "markdown",
   "id": "9a5caaa4-1fdd-43ba-b8de-71bcbd128425",
   "metadata": {},
   "source": [
    "## RecursiveDifferentialGrouping"
   ]
  },
  {
   "cell_type": "code",
   "execution_count": null,
   "id": "9db09c3c-bc86-4b52-bbd5-11b4912b588b",
   "metadata": {
    "scrolled": true
   },
   "outputs": [],
   "source": [
    "for i in range(1, 16):\n",
    "    for j in range(1):\n",
    "        print('F%d-R%d' % (i, j))\n",
    "        run_grouping_cec2013(RecursiveDifferentialGrouping(seed=j), j, i)"
   ]
  },
  {
   "cell_type": "markdown",
   "id": "b5d79c00-8765-49f7-82e5-1825a8c0cf35",
   "metadata": {},
   "source": [
    "## RecursiveDifferentialGrouping v2"
   ]
  },
  {
   "cell_type": "code",
   "execution_count": null,
   "id": "83343c8f-b841-4edb-a244-eeb87697fe47",
   "metadata": {
    "scrolled": true
   },
   "outputs": [],
   "source": [
    "for i in range(1, 16):\n",
    "    for j in range(51):\n",
    "        print('F%d-R%d' % (i, j))\n",
    "        run_grouping_cec2013(RecursiveDifferentialGroupingV2(seed=j), j, i)"
   ]
  },
  {
   "cell_type": "markdown",
   "id": "a852a2f0-835e-4b06-968a-d1aab10f5143",
   "metadata": {},
   "source": [
    "## RecursiveDifferentialGrouping v3"
   ]
  },
  {
   "cell_type": "code",
   "execution_count": null,
   "id": "2d699eb3-24c7-44a3-ae52-ac922afb60fa",
   "metadata": {
    "scrolled": true
   },
   "outputs": [],
   "source": [
    "for i in range(1, 16):\n",
    "    for j in range(51):\n",
    "        print('F%d-R%d' % (i, j))\n",
    "        run_grouping_cec2013(RecursiveDifferentialGroupingV3(seed=j), j, i)"
   ]
  },
  {
   "cell_type": "markdown",
   "id": "45c02656-44f0-4122-a458-4f74a77791a3",
   "metadata": {},
   "source": [
    "## EfficientRecursiveDifferentialGrouping"
   ]
  },
  {
   "cell_type": "code",
   "execution_count": null,
   "id": "ddd5e389-0188-4581-ba80-2cbd8fc7df31",
   "metadata": {
    "scrolled": true
   },
   "outputs": [],
   "source": [
    "for i in range(1, 16):\n",
    "    for j in range(51):\n",
    "        print('F%d-R%d' % (i, j))\n",
    "        run_grouping_cec2013(EfficientRecursiveDifferentialGrouping(seed=j), j, i)"
   ]
  },
  {
   "cell_type": "markdown",
   "id": "b3b0e286-b84b-4660-bcec-540757bc818a",
   "metadata": {},
   "source": [
    "## ThreeLevelRecursiveDifferentialGrouping"
   ]
  },
  {
   "cell_type": "code",
   "execution_count": null,
   "id": "be867dc6-8b8d-4b34-bcd1-04468b1413a8",
   "metadata": {
    "scrolled": true
   },
   "outputs": [],
   "source": [
    "for i in range(1, 16):\n",
    "    for j in range(51):\n",
    "        print('F%d-R%d' % (i, j))\n",
    "        run_grouping_cec2013(ThreeLevelRecursiveDifferentialGrouping(seed=j), j, i)"
   ]
  },
  {
   "cell_type": "markdown",
   "id": "7cbb4749-90ef-425c-b2dc-011a9be92003",
   "metadata": {
    "jp-MarkdownHeadingCollapsed": true
   },
   "source": [
    "# PSO results"
   ]
  },
  {
   "cell_type": "code",
   "execution_count": null,
   "id": "290d7e70-5fae-4717-bd27-906cf4b03d9e",
   "metadata": {},
   "outputs": [],
   "source": [
    "def run_cec2013(opt:type[OptimizationAlgorithm] = ParticleSwarmAlgorithm, no_fun:int = 1, seed:int = 1) -> None:\n",
    "    algo = opt(seed=seed)\n",
    "    task = CEC2013lsgoTask(no_fun=no_fun)\n",
    "    start = timeit.default_timer()\n",
    "    res = algo.run(task)\n",
    "    stop = timeit.default_timer()\n",
    "    if not os.path.exists('%s.%s.%d.csv' % (algo.Name[1], task.Name[0], no_fun)):\n",
    "        with open('%s.%s.%d.csv' % (algo.Name[1], task.Name[0], no_fun), 'w') as csvfile:\n",
    "            csvfile.write('seed, f1, f2, f3, time\\n')\n",
    "    with open('%s.%s.%d.csv' % (algo.Name[1], task.Name[0], no_fun), 'a') as csvfile:\n",
    "        f1, f2, f3 = task.get_mesures()\n",
    "        csvfile.write('%d, %f, %f, %f, %f\\n' % (seed, f1, f2, f3, stop - start))"
   ]
  },
  {
   "cell_type": "code",
   "execution_count": null,
   "id": "f52215d9-dedf-4300-9740-852c2875d8d4",
   "metadata": {},
   "outputs": [],
   "source": [
    "arg_no_fun = int(input('Function no.:'))\n",
    "arg_seed = int(input('Seed no.:'))\n",
    "arg_opt_alg = int(input('Algorithm no.:'))\n",
    "opt_alg = ParticleSwarmAlgorithm\n",
    "if arg_opt_alg == 2: opt_alg = ParticleSwarmOptimization\n",
    "elif arg_opt_alg == 3: opt_alg = CenterParticleSwarmOptimization\n",
    "elif arg_opt_alg == 4: opt_alg = MutatedParticleSwarmOptimization\n",
    "elif arg_opt_alg == 5: opt_alg = MutatedCenterParticleSwarmOptimization\n",
    "elif arg_opt_alg == 6: opt_alg = OppositionVelocityClampingParticleSwarmOptimization\n",
    "elif arg_opt_alg == 7: opt_alg = ComprehensiveLearningParticleSwarmOptimizer\n",
    "else: opt_alg = ParticleSwarmAlgorithm\n",
    "np.set_printoptions(linewidth=np.inf)\n",
    "run_cec2013(opt=opt_alg, no_fun=arg_no_fun, seed=arg_seed)"
   ]
  },
  {
   "cell_type": "markdown",
   "id": "30a3e353-7b33-45ff-b5c1-d7583252ff21",
   "metadata": {
    "jp-MarkdownHeadingCollapsed": true
   },
   "source": [
    "# PSO with grouping"
   ]
  },
  {
   "cell_type": "code",
   "execution_count": null,
   "id": "1cda9d68-e5ce-408c-95d7-1273094acb13",
   "metadata": {},
   "outputs": [],
   "source": [
    "def run_cc_cec2013(decomp:type[AnalysisAlgorithm] = RecursiveDifferentialGroupingV3, opt:type[OptimizationAlgorithm] = ParticleSwarmAlgorithm, no_fun:int = 1, seed:int = 1) -> None:\n",
    "    algo = CooperativeCoevolution(decomp(seed=seed), opt, seed=seed)\n",
    "    task = CEC2013lsgoTask(no_fun=no_fun)\n",
    "    start = timeit.default_timer()\n",
    "    res = algo.run(task)\n",
    "    stop = timeit.default_timer()\n",
    "    if not os.path.exists('%s.%s.%s.%d.csv' % (algo.decompozer.Name[1], algo.toptimizer.Name[1], task.Name[0], no_fun)):\n",
    "        with open('%s.%s.%s.%d.csv' % (algo.decompozer.Name[1], algo.toptimizer.Name[1], task.Name[0], no_fun), 'w') as csvfile:\n",
    "            csvfile.write('seed, f1, f2, f3, time\\n')\n",
    "    with open('%s.%s.%s.%d.csv' % (algo.decompozer.Name[1], algo.toptimizer.Name[1], task.Name[0], no_fun), 'a') as csvfile:\n",
    "        f1, f2, f3 = task.get_mesures()\n",
    "        csvfile.write('%d, %f, %f, %f, %f\\n' % (seed, f1, f2, f3, stop - start))"
   ]
  },
  {
   "cell_type": "code",
   "execution_count": null,
   "id": "24e6076e-815f-4824-ba9a-e80a37dfb994",
   "metadata": {
    "scrolled": true
   },
   "outputs": [],
   "source": [
    "arg_no_fun = int(input('Function no.:'))\n",
    "arg_seed = int(input('Seed no.:'))\n",
    "arg_opt_alg = int(input('Algorithm no.:'))\n",
    "arg_decomp_alg = int(input('Decomposer no.:'))\n",
    "opt_alg = ParticleSwarmAlgorithm\n",
    "if arg_opt_alg == 2: opt_alg = ParticleSwarmOptimization\n",
    "elif arg_opt_alg == 3: opt_alg = CenterParticleSwarmOptimization\n",
    "elif arg_opt_alg == 4: opt_alg = MutatedParticleSwarmOptimization\n",
    "elif arg_opt_alg == 5: opt_alg = MutatedCenterParticleSwarmOptimization\n",
    "elif arg_opt_alg == 6: opt_alg = OppositionVelocityClampingParticleSwarmOptimization\n",
    "elif arg_opt_alg == 7: opt_alg = ComprehensiveLearningParticleSwarmOptimizer\n",
    "else: opt_alg = ParticleSwarmAlgorithm\n",
    "decomp_alg = RecursiveDifferentialGroupingV3\n",
    "if arg_decomp_alg == 1: RecursiveDifferentialGrouping\n",
    "elif arg_decomp_alg == 2: RecursiveDifferentialGroupingV2\n",
    "elif arg_decomp_alg == 3: RecursiveDifferentialGroupingV3\n",
    "elif arg_decomp_alg == 4: EfficientRecursiveDifferentialGrouping\n",
    "elif arg_decomp_alg == 5: ThreeLevelRecursiveDifferentialGrouping\n",
    "else: decomp_alg = RecursiveDifferentialGroupingV3\n",
    "np.set_printoptions(linewidth=np.inf)\n",
    "run_cc_cec2013(decomp=RecursiveDifferentialGroupingV3, opt=ParticleSwarmAlgorithm, no_fun=arg_no_fun, seed=arg_seed)"
   ]
  }
 ],
 "metadata": {
  "kernelspec": {
   "display_name": "Python 3 (ipykernel)",
   "language": "python",
   "name": "python3"
  },
  "language_info": {
   "codemirror_mode": {
    "name": "ipython",
    "version": 3
   },
   "file_extension": ".py",
   "mimetype": "text/x-python",
   "name": "python",
   "nbconvert_exporter": "python",
   "pygments_lexer": "ipython3",
   "version": "3.12.2"
  }
 },
 "nbformat": 4,
 "nbformat_minor": 5
}
