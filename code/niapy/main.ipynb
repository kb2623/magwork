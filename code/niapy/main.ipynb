{
 "cells": [
  {
   "cell_type": "code",
   "execution_count": null,
   "id": "0ac6d4fa-80a4-40c4-9420-bae94741c097",
   "metadata": {},
   "outputs": [],
   "source": [
    "import os\n",
    "import sys\n",
    "import timeit\n",
    "\n",
    "import numpy as np\n",
    "from numpy.random import rand\n",
    "\n",
    "from cec2013lsgo.cec2013 import Benchmark\n",
    "\n",
    "from niapy.task import Task\n",
    "from niapy.problems import Problem\n",
    "\n",
    "from niapy.algorithms.analysis import (\n",
    "    RecursiveDifferentialGroupingV3,\n",
    "    ExtendedDifferentialGrouping\n",
    ")\n",
    "from niapy.algorithms.basic import (\n",
    "    ParticleSwarmAlgorithm,\n",
    ")\n",
    "from ccalgorithm import CooperativeCoevolution"
   ]
  },
  {
   "cell_type": "markdown",
   "id": "1fec7578-ba88-468c-a767-37a69faba589",
   "metadata": {},
   "source": [
    "# Test bechmark functions"
   ]
  },
  {
   "cell_type": "code",
   "execution_count": null,
   "id": "bef1827c-0ff1-4d08-88be-91378c2bc1d0",
   "metadata": {},
   "outputs": [],
   "source": [
    "def run_test_func(no_fun:int, max_evals:int = 3e6) -> None:\n",
    "    if 1 < no_fun > 15: raise Exception('Function between 1 and 15!!!')\n",
    "    bench = Benchmark()\n",
    "    info = bench.get_info(no_fun)\n",
    "    fun_fitness = bench.get_function(no_fun)\n",
    "    start = timeit.default_timer()\n",
    "    i = 0\n",
    "    while i < max_evals:\n",
    "        x = info['lower'] + rand(info['dimension']) * (info['upper'] - info['lower'])\n",
    "        f = fun_fitness(x)\n",
    "        i += 1\n",
    "    end = timeit.default_timer()\n",
    "    print('Time of execution for f%d for %d evals = %fs' % (no_fun, max_evals, end - start))"
   ]
  },
  {
   "cell_type": "code",
   "execution_count": null,
   "id": "4a81b6d9-e306-4dda-8a8e-8838f775daef",
   "metadata": {
    "scrolled": true
   },
   "outputs": [],
   "source": [
    "for i in range(1, 16): run_test_func(i, 1e6)"
   ]
  },
  {
   "cell_type": "markdown",
   "id": "30a3e353-7b33-45ff-b5c1-d7583252ff21",
   "metadata": {},
   "source": [
    "# Main functions"
   ]
  },
  {
   "cell_type": "code",
   "execution_count": null,
   "id": "186c3ace-0397-4069-af26-a37e49b0a942",
   "metadata": {},
   "outputs": [],
   "source": [
    "class CEC2013lsgoTask(Task):\n",
    "    def __init__(self, no_fun:int, *args:list, **kwargs:dict) -> None:\n",
    "        if 1 < no_fun > 15: raise Exception('Function between 1 and 15!!!')\n",
    "        bench = Benchmark()\n",
    "        info = bench.get_info(no_fun)\n",
    "        max_evals = 3e6\n",
    "        fun_fitness = bench.get_function(no_fun)\n",
    "        \n",
    "        class CEC2013lsgoProblem(Problem):\n",
    "            def __init__(self, *args:list, **kwargs:dict) -> None:\n",
    "                kwargs.pop('dimension', None), kwargs.pop('lower', None), kwargs.pop('upper', None)\n",
    "                super().__init__(dimension=info['dimension'], lower=info['lower'], upper=info['upper'], *args, **kwargs)\n",
    "        \n",
    "            def _evaluate(self, x):\n",
    "                return fun_fitness(x)\n",
    "\n",
    "        kwargs.pop('problem', None), kwargs.pop('optimization_type', None), kwargs.pop('lower', None), kwargs.pop('upper', None), kwargs.pop('dimension', None), kwargs.pop('max_evals', None)\n",
    "        super().__init__(problem=CEC2013lsgoProblem(), max_evals=max_evals, *args, **kwargs)\n",
    "\n",
    "    def get_mesures(self) -> list[float]:\n",
    "        r = [self.fitness_evals[0][1], self.fitness_evals[0][1], self.fitness_evals[0][1]]\n",
    "        for e in self.fitness_evals:\n",
    "            if e[0] > 120000: break\n",
    "            else: r[0] = e[1]\n",
    "        for e in self.fitness_evals:\n",
    "            if e[0] > 600000: break\n",
    "            else: r[1] = e[1]\n",
    "        for e in self.fitness_evals:\n",
    "            if e[0] > 3000000: break\n",
    "            else: r[2] = e[1]\n",
    "        return r"
   ]
  },
  {
   "cell_type": "code",
   "execution_count": null,
   "id": "eef43fcb-13ca-4511-bc95-fe9205f806e2",
   "metadata": {},
   "outputs": [],
   "source": [
    "def no_seps(a:list) -> int:\n",
    "    s = 0\n",
    "    for e in a:\n",
    "        if len(e) > 1: continue\n",
    "        s += 1\n",
    "    return s\n",
    "\n",
    "\n",
    "def no_groups(a:list) -> int:\n",
    "    s = 0\n",
    "    for e in a:\n",
    "        if len(e) == 1: continue\n",
    "        s += 1\n",
    "    return s\n",
    "\n",
    "def run_rdg_cec2013(no_fun:int = 1, seed:int = 1, alpha:float = 1e-12, NP:int = 50) -> None:\n",
    "    algo = RecursiveDifferentialGroupingV3(seed=seed)\n",
    "    algo.set_parameters(n=NP, alpha=alpha)\n",
    "    task = CEC2013lsgoTask(no_fun=no_fun)\n",
    "    start = timeit.default_timer()\n",
    "    best = algo.run(task)\n",
    "    stop = timeit.default_timer()\n",
    "    if not os.path.exists('./%s.cec2013lso.%d.csv' % (algo.Name[1], no_fun)):\n",
    "        with open('%s.cec2013lso.%d.csv' % (algo.Name[1], no_fun), 'w') as csvfile:\n",
    "            csvfile.write('seed, no_groups, no_seps, evals, time\\n')\n",
    "    with open('%s.cec2013lso.%d.csv' % (algo.Name[1], no_fun), 'a') as csvfile:\n",
    "        csvfile.write('%d, %d, %d, %d, %f\\n' % (seed, no_groups(best), no_seps(best), task.evals, stop - start))"
   ]
  },
  {
   "cell_type": "code",
   "execution_count": null,
   "id": "1cda9d68-e5ce-408c-95d7-1273094acb13",
   "metadata": {},
   "outputs": [],
   "source": [
    "def run_cc_cec2013(no_fun:int = 1, seed:int = 1) -> None:\n",
    "    # ParticleSwarmAlgorithm\n",
    "    algo = CooperativeCoevolution(RecursiveDifferentialGroupingV3(seed=seed), ParticleSwarmAlgorithm, seed=seed)\n",
    "    algo.set_decomposer_parameters(n=50, alpha=1e-12, tn=50)\n",
    "    # create a test cec2013lsgo\n",
    "    task = CEC2013lsgoTask(no_fun=no_fun)\n",
    "    # start optimization of the task\n",
    "    start = timeit.default_timer()\n",
    "    res = algo.run(task)\n",
    "    stop = timeit.default_timer()\n",
    "    print('res: ', res)\n",
    "    print('test: %s -> %f' % (task.x, task.x_f))\n",
    "    if not os.path.exists('%s.%s.cec2013lso.%d.csv' % (algo.decompozer.Name[1], algo.toptimizer.Name[1], no_fun)):\n",
    "        with open('%s.%s.cec2013lso.%d.csv' % (algo.decompozer.Name[1], algo.toptimizer.Name[1], no_fun), 'w') as csvfile:\n",
    "            csvfile.write('seed, f1, f2, f3, time\\n')\n",
    "    with open('%s.%s.cec2013lso.%d.csv' % (algo.decompozer.Name[1], algo.toptimizer.Name[1], no_fun), 'a') as csvfile:\n",
    "        f1, f2, f3 = task.get_mesures()\n",
    "        csvfile.write('%d, %f, %f, %f, %f\\n' % (seed, f1, f2, f3, stop - start))"
   ]
  },
  {
   "cell_type": "markdown",
   "id": "1df180ba-4da8-484b-bf79-24168eb54e50",
   "metadata": {},
   "source": [
    "# Main"
   ]
  },
  {
   "cell_type": "code",
   "execution_count": null,
   "id": "24e6076e-815f-4824-ba9a-e80a37dfb994",
   "metadata": {},
   "outputs": [],
   "source": [
    "arg_no_fun = 1\n",
    "arg_seed = 1\n",
    "np.set_printoptions(linewidth=np.inf)\n",
    "run_cc_cec2013(no_fun=arg_no_fun, seed=arg_seed)"
   ]
  }
 ],
 "metadata": {
  "kernelspec": {
   "display_name": "Python 3 (ipykernel)",
   "language": "python",
   "name": "python3"
  },
  "language_info": {
   "codemirror_mode": {
    "name": "ipython",
    "version": 3
   },
   "file_extension": ".py",
   "mimetype": "text/x-python",
   "name": "python",
   "nbconvert_exporter": "python",
   "pygments_lexer": "ipython3",
   "version": "3.12.2"
  }
 },
 "nbformat": 4,
 "nbformat_minor": 5
}
