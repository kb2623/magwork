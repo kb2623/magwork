{
 "cells": [
  {
   "cell_type": "code",
   "execution_count": null,
   "id": "427de14d-868c-4016-a67b-ab75b1ba4142",
   "metadata": {},
   "outputs": [],
   "source": [
    "from pylatex import Document, LongTabu, HFill\n",
    "from pylatex.utils import bold"
   ]
  },
  {
   "cell_type": "code",
   "execution_count": null,
   "id": "76498621-7ef8-408f-9d4a-ed4745429618",
   "metadata": {
    "scrolled": true
   },
   "outputs": [],
   "source": [
    "def genenerate_longtabu(tab_name):\n",
    "    geometry_options = {\n",
    "        \"landscape\": True,\n",
    "        \"margin\": \"0.5in\",\n",
    "        \"headheight\": \"20pt\",\n",
    "        \"headsep\": \"10pt\",\n",
    "        \"includeheadfoot\": True\n",
    "    }\n",
    "    doc = Document(page_numbers=True, geometry_options=geometry_options)\n",
    "    # Generate data table\n",
    "    with doc.create(LongTabu(\"X[r] X[r] X[r] X[r] X[r] X[r]\")) as data_table:\n",
    "        header_row1 = [\"Prov\", \"Num\", \"CurBal\", \"IntPay\", \"Total\", \"IntR\"]\n",
    "        data_table.add_row(header_row1, mapper=[bold])\n",
    "        data_table.add_hline()\n",
    "        data_table.add_empty_row()\n",
    "        data_table.end_table_header()\n",
    "        data_table.add_row([\"Prov\", \"Num\", \"CurBal\", \"IntPay\", \"Total\", \"IntR\"])\n",
    "        row = [\"PA\", \"9\", \"$100\", \"%10\", \"$1000\", \"Test\"]\n",
    "        for i in range(50):\n",
    "            data_table.add_row(row)\n",
    "    doc.append(bold(\"Grand Total:\"))\n",
    "    doc.append(HFill())\n",
    "    doc.append(bold(\"Total\"))\n",
    "    doc.generate_tex(tab_name)"
   ]
  },
  {
   "cell_type": "code",
   "execution_count": null,
   "id": "13590a6c-73f3-4538-a690-021a8a8095bf",
   "metadata": {},
   "outputs": [],
   "source": [
    "genenerate_longtabu('table_one.tex')"
   ]
  }
 ],
 "metadata": {
  "kernelspec": {
   "display_name": "Python 3 (ipykernel)",
   "language": "python",
   "name": "python3"
  },
  "language_info": {
   "codemirror_mode": {
    "name": "ipython",
    "version": 3
   },
   "file_extension": ".py",
   "mimetype": "text/x-python",
   "name": "python",
   "nbconvert_exporter": "python",
   "pygments_lexer": "ipython3",
   "version": "3.12.2"
  }
 },
 "nbformat": 4,
 "nbformat_minor": 5
}
