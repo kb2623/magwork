{
 "cells": [
  {
   "cell_type": "code",
   "execution_count": null,
   "id": "8685567e-0ab9-43ea-8d5a-47175cd763c8",
   "metadata": {},
   "outputs": [],
   "source": [
    "import matplotlib.pyplot as plt\n",
    "import numpy as np\n",
    "import matplotlib.cm as cm"
   ]
  },
  {
   "cell_type": "code",
   "execution_count": null,
   "id": "029979a8-5447-44f1-adfe-c571f4183547",
   "metadata": {},
   "outputs": [],
   "source": [
    "plt.rcParams.update({\n",
    "    \"figure.figsize\": (10, 10),\n",
    "    #\"text.usetex\": True,\n",
    "    #\"font.family\": \"sans-serif\",\n",
    "    #\"font.sans-serif\": \"Helvetica\",\n",
    "})"
   ]
  },
  {
   "cell_type": "code",
   "execution_count": null,
   "id": "9e2498f1-cbf1-464e-ab46-4ab40dbd68fc",
   "metadata": {},
   "outputs": [],
   "source": [
    "# Pripravi podatke za risanje\n",
    "delta = 0.025\n",
    "x1, x2 = np.arange(-2, 2, delta), np.arange(-2, 2, delta)\n",
    "X1, X2 = np.meshgrid(x1, x2)\n",
    "Y1, Y2 = np.abs(X1 * X2), np.abs(X1 + X2)\n",
    "# TODO add points to show how the grup detection works\n",
    "p1, p2 = [-1.75, 1], [-1.75, 1.4] # this is a test point"
   ]
  },
  {
   "cell_type": "code",
   "execution_count": null,
   "id": "997039fd-be19-4d84-b8bb-6a9b3026dd59",
   "metadata": {},
   "outputs": [],
   "source": [
    "# Narisi sliko\n",
    "plt.rcParams[\"figure.figsize\"] = (10, 10)\n",
    "fig, ax = plt.subplots()\n",
    "ax.plot(p1, p2, 'r--')\n",
    "ax.set_xlabel('x1')\n",
    "ax.set_ylabel('x2')\n",
    "CS = ax.contour(X1, X2, Y1, levels=27)\n",
    "ax.clabel(CS, inline=True, fontsize=10)"
   ]
  },
  {
   "cell_type": "code",
   "execution_count": null,
   "id": "7000761a-ddca-4664-930e-3d7051ebb065",
   "metadata": {},
   "outputs": [],
   "source": [
    "# shrani sliko v datoteko\n",
    "fig.savefig('slika1.svg')"
   ]
  },
  {
   "cell_type": "code",
   "execution_count": null,
   "id": "bbd8ac40-536d-48ae-ab42-8be602e9aec7",
   "metadata": {},
   "outputs": [],
   "source": [
    "# Narisi sliko\n",
    "plt.rcParams[\"figure.figsize\"] = (10, 10)\n",
    "fig, ax = plt.subplots()\n",
    "ax.plot(p1, p2, 'r--')\n",
    "ax.set_xlabel('x1')\n",
    "ax.set_ylabel('x2')\n",
    "CS = ax.contour(X1, X2, Y2, levels=27)\n",
    "ax.clabel(CS, inline=True, fontsize=10)"
   ]
  },
  {
   "cell_type": "code",
   "execution_count": null,
   "id": "e6256dc9-dcfe-4a5d-a4cd-0572cb5e2158",
   "metadata": {},
   "outputs": [],
   "source": [
    "# shrani sliko v datoteko\n",
    "fig.savefig('slika2.svg')"
   ]
  }
 ],
 "metadata": {
  "kernelspec": {
   "display_name": "Python 3 (ipykernel)",
   "language": "python",
   "name": "python3"
  },
  "language_info": {
   "codemirror_mode": {
    "name": "ipython",
    "version": 3
   },
   "file_extension": ".py",
   "mimetype": "text/x-python",
   "name": "python",
   "nbconvert_exporter": "python",
   "pygments_lexer": "ipython3",
   "version": "3.11.0"
  }
 },
 "nbformat": 4,
 "nbformat_minor": 5
}
